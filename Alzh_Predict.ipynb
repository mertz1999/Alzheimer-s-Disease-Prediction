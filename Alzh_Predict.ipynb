{
  "nbformat": 4,
  "nbformat_minor": 0,
  "metadata": {
    "colab": {
      "name": "Alzh-Predict.ipynb",
      "provenance": [],
      "collapsed_sections": [],
      "authorship_tag": "ABX9TyP5WVtxKr19tMgJPtKt38hB",
      "include_colab_link": true
    },
    "kernelspec": {
      "name": "python3",
      "display_name": "Python 3"
    },
    "language_info": {
      "name": "python"
    }
  },
  "cells": [
    {
      "cell_type": "markdown",
      "metadata": {
        "id": "view-in-github",
        "colab_type": "text"
      },
      "source": [
        "<a href=\"https://colab.research.google.com/github/mertz1999/Alzheimer-s-Disease-Prediction/blob/main/Alzh_Predict.ipynb\" target=\"_parent\"><img src=\"https://colab.research.google.com/assets/colab-badge.svg\" alt=\"Open In Colab\"/></a>"
      ]
    },
    {
      "cell_type": "code",
      "execution_count": null,
      "metadata": {
        "id": "bdepBMcIkUgj"
      },
      "outputs": [],
      "source": [
        "#Loading packages\n",
        "import pandas as pd\n",
        "from sklearn.model_selection import train_test_split\n",
        "from sklearn.ensemble import RandomForestRegressor\n",
        "import seaborn as sns\n",
        "import matplotlib.pyplot as plt\n",
        "import numpy as np\n",
        "from sklearn.metrics import confusion_matrix, precision_score, recall_score, f1_score\n",
        "from sklearn.neighbors import KNeighborsRegressor\n",
        "from sklearn.metrics import mean_squared_error\n",
        "from math import sqrt\n",
        "from sklearn.naive_bayes import GaussianNB\n"
      ]
    },
    {
      "cell_type": "code",
      "source": [
        "# Variable to save information in each step\n",
        "accu_dict = {\n",
        "    \"random_forest\" : 0.0,\n",
        "    \"knn\"           : 0.0,\n",
        "    \"bayes\"         : 0.0,\n",
        "            } \n",
        "\n",
        "precision_dict = {\n",
        "    \"random_forest\" : 0.0,\n",
        "    \"knn\"           : 0.0,\n",
        "    \"bayes\"         : 0.0,\n",
        "            } \n",
        "\n",
        "recall_dict = {\n",
        "    \"random_forest\" : 0.0,\n",
        "    \"knn\"           : 0.0,\n",
        "    \"bayes\"         : 0.0,\n",
        "            } \n",
        "\n",
        "f1_dict = {\n",
        "    \"random_forest\" : 0.0,\n",
        "    \"knn\"           : 0.0,\n",
        "    \"bayes\"         : 0.0,\n",
        "            } "
      ],
      "metadata": {
        "id": "hJoV5I-AqB8P"
      },
      "execution_count": null,
      "outputs": []
    },
    {
      "cell_type": "code",
      "source": [
        "# Loafing Data \n",
        "data = pd.read_excel('Data.xlsx')\n",
        "data = data.drop('ID', axis=1)\n",
        "data"
      ],
      "metadata": {
        "colab": {
          "base_uri": "https://localhost:8080/",
          "height": 424
        },
        "id": "dAHAzyE5khBj",
        "outputId": "f4e1a153-40a1-481e-c24a-031e53063071"
      },
      "execution_count": null,
      "outputs": [
        {
          "output_type": "execute_result",
          "data": {
            "text/plain": [
              "      LO  Age  SEX  EDU  SE  Hert  smoke  COV  COV-R  Alzh\n",
              "0      1   62    1   13   2     1      1    1      2     1\n",
              "1      1   73    0   16   2     1      1    1      2     1\n",
              "2      1   39    0    6   2     1      0    1      2     1\n",
              "3      1   60    1    0   2     0      1    1      1     1\n",
              "4      1   64    0   18   3     0      0    1      3     1\n",
              "...   ..  ...  ...  ...  ..   ...    ...  ...    ...   ...\n",
              "3379   6   73    1   10   2     0      0    0      2     0\n",
              "3380   6   49    1   10   3     0      0    0      2     0\n",
              "3381   6   51    1    6   3     0      0    0      3     0\n",
              "3382   6   64    0   12   3     0      0    0      1     0\n",
              "3383   6   64    1    9   3     0      1    0      1     0\n",
              "\n",
              "[3384 rows x 10 columns]"
            ],
            "text/html": [
              "\n",
              "  <div id=\"df-540b2dc7-84dc-4543-9685-b6e1a091876c\">\n",
              "    <div class=\"colab-df-container\">\n",
              "      <div>\n",
              "<style scoped>\n",
              "    .dataframe tbody tr th:only-of-type {\n",
              "        vertical-align: middle;\n",
              "    }\n",
              "\n",
              "    .dataframe tbody tr th {\n",
              "        vertical-align: top;\n",
              "    }\n",
              "\n",
              "    .dataframe thead th {\n",
              "        text-align: right;\n",
              "    }\n",
              "</style>\n",
              "<table border=\"1\" class=\"dataframe\">\n",
              "  <thead>\n",
              "    <tr style=\"text-align: right;\">\n",
              "      <th></th>\n",
              "      <th>LO</th>\n",
              "      <th>Age</th>\n",
              "      <th>SEX</th>\n",
              "      <th>EDU</th>\n",
              "      <th>SE</th>\n",
              "      <th>Hert</th>\n",
              "      <th>smoke</th>\n",
              "      <th>COV</th>\n",
              "      <th>COV-R</th>\n",
              "      <th>Alzh</th>\n",
              "    </tr>\n",
              "  </thead>\n",
              "  <tbody>\n",
              "    <tr>\n",
              "      <th>0</th>\n",
              "      <td>1</td>\n",
              "      <td>62</td>\n",
              "      <td>1</td>\n",
              "      <td>13</td>\n",
              "      <td>2</td>\n",
              "      <td>1</td>\n",
              "      <td>1</td>\n",
              "      <td>1</td>\n",
              "      <td>2</td>\n",
              "      <td>1</td>\n",
              "    </tr>\n",
              "    <tr>\n",
              "      <th>1</th>\n",
              "      <td>1</td>\n",
              "      <td>73</td>\n",
              "      <td>0</td>\n",
              "      <td>16</td>\n",
              "      <td>2</td>\n",
              "      <td>1</td>\n",
              "      <td>1</td>\n",
              "      <td>1</td>\n",
              "      <td>2</td>\n",
              "      <td>1</td>\n",
              "    </tr>\n",
              "    <tr>\n",
              "      <th>2</th>\n",
              "      <td>1</td>\n",
              "      <td>39</td>\n",
              "      <td>0</td>\n",
              "      <td>6</td>\n",
              "      <td>2</td>\n",
              "      <td>1</td>\n",
              "      <td>0</td>\n",
              "      <td>1</td>\n",
              "      <td>2</td>\n",
              "      <td>1</td>\n",
              "    </tr>\n",
              "    <tr>\n",
              "      <th>3</th>\n",
              "      <td>1</td>\n",
              "      <td>60</td>\n",
              "      <td>1</td>\n",
              "      <td>0</td>\n",
              "      <td>2</td>\n",
              "      <td>0</td>\n",
              "      <td>1</td>\n",
              "      <td>1</td>\n",
              "      <td>1</td>\n",
              "      <td>1</td>\n",
              "    </tr>\n",
              "    <tr>\n",
              "      <th>4</th>\n",
              "      <td>1</td>\n",
              "      <td>64</td>\n",
              "      <td>0</td>\n",
              "      <td>18</td>\n",
              "      <td>3</td>\n",
              "      <td>0</td>\n",
              "      <td>0</td>\n",
              "      <td>1</td>\n",
              "      <td>3</td>\n",
              "      <td>1</td>\n",
              "    </tr>\n",
              "    <tr>\n",
              "      <th>...</th>\n",
              "      <td>...</td>\n",
              "      <td>...</td>\n",
              "      <td>...</td>\n",
              "      <td>...</td>\n",
              "      <td>...</td>\n",
              "      <td>...</td>\n",
              "      <td>...</td>\n",
              "      <td>...</td>\n",
              "      <td>...</td>\n",
              "      <td>...</td>\n",
              "    </tr>\n",
              "    <tr>\n",
              "      <th>3379</th>\n",
              "      <td>6</td>\n",
              "      <td>73</td>\n",
              "      <td>1</td>\n",
              "      <td>10</td>\n",
              "      <td>2</td>\n",
              "      <td>0</td>\n",
              "      <td>0</td>\n",
              "      <td>0</td>\n",
              "      <td>2</td>\n",
              "      <td>0</td>\n",
              "    </tr>\n",
              "    <tr>\n",
              "      <th>3380</th>\n",
              "      <td>6</td>\n",
              "      <td>49</td>\n",
              "      <td>1</td>\n",
              "      <td>10</td>\n",
              "      <td>3</td>\n",
              "      <td>0</td>\n",
              "      <td>0</td>\n",
              "      <td>0</td>\n",
              "      <td>2</td>\n",
              "      <td>0</td>\n",
              "    </tr>\n",
              "    <tr>\n",
              "      <th>3381</th>\n",
              "      <td>6</td>\n",
              "      <td>51</td>\n",
              "      <td>1</td>\n",
              "      <td>6</td>\n",
              "      <td>3</td>\n",
              "      <td>0</td>\n",
              "      <td>0</td>\n",
              "      <td>0</td>\n",
              "      <td>3</td>\n",
              "      <td>0</td>\n",
              "    </tr>\n",
              "    <tr>\n",
              "      <th>3382</th>\n",
              "      <td>6</td>\n",
              "      <td>64</td>\n",
              "      <td>0</td>\n",
              "      <td>12</td>\n",
              "      <td>3</td>\n",
              "      <td>0</td>\n",
              "      <td>0</td>\n",
              "      <td>0</td>\n",
              "      <td>1</td>\n",
              "      <td>0</td>\n",
              "    </tr>\n",
              "    <tr>\n",
              "      <th>3383</th>\n",
              "      <td>6</td>\n",
              "      <td>64</td>\n",
              "      <td>1</td>\n",
              "      <td>9</td>\n",
              "      <td>3</td>\n",
              "      <td>0</td>\n",
              "      <td>1</td>\n",
              "      <td>0</td>\n",
              "      <td>1</td>\n",
              "      <td>0</td>\n",
              "    </tr>\n",
              "  </tbody>\n",
              "</table>\n",
              "<p>3384 rows × 10 columns</p>\n",
              "</div>\n",
              "      <button class=\"colab-df-convert\" onclick=\"convertToInteractive('df-540b2dc7-84dc-4543-9685-b6e1a091876c')\"\n",
              "              title=\"Convert this dataframe to an interactive table.\"\n",
              "              style=\"display:none;\">\n",
              "        \n",
              "  <svg xmlns=\"http://www.w3.org/2000/svg\" height=\"24px\"viewBox=\"0 0 24 24\"\n",
              "       width=\"24px\">\n",
              "    <path d=\"M0 0h24v24H0V0z\" fill=\"none\"/>\n",
              "    <path d=\"M18.56 5.44l.94 2.06.94-2.06 2.06-.94-2.06-.94-.94-2.06-.94 2.06-2.06.94zm-11 1L8.5 8.5l.94-2.06 2.06-.94-2.06-.94L8.5 2.5l-.94 2.06-2.06.94zm10 10l.94 2.06.94-2.06 2.06-.94-2.06-.94-.94-2.06-.94 2.06-2.06.94z\"/><path d=\"M17.41 7.96l-1.37-1.37c-.4-.4-.92-.59-1.43-.59-.52 0-1.04.2-1.43.59L10.3 9.45l-7.72 7.72c-.78.78-.78 2.05 0 2.83L4 21.41c.39.39.9.59 1.41.59.51 0 1.02-.2 1.41-.59l7.78-7.78 2.81-2.81c.8-.78.8-2.07 0-2.86zM5.41 20L4 18.59l7.72-7.72 1.47 1.35L5.41 20z\"/>\n",
              "  </svg>\n",
              "      </button>\n",
              "      \n",
              "  <style>\n",
              "    .colab-df-container {\n",
              "      display:flex;\n",
              "      flex-wrap:wrap;\n",
              "      gap: 12px;\n",
              "    }\n",
              "\n",
              "    .colab-df-convert {\n",
              "      background-color: #E8F0FE;\n",
              "      border: none;\n",
              "      border-radius: 50%;\n",
              "      cursor: pointer;\n",
              "      display: none;\n",
              "      fill: #1967D2;\n",
              "      height: 32px;\n",
              "      padding: 0 0 0 0;\n",
              "      width: 32px;\n",
              "    }\n",
              "\n",
              "    .colab-df-convert:hover {\n",
              "      background-color: #E2EBFA;\n",
              "      box-shadow: 0px 1px 2px rgba(60, 64, 67, 0.3), 0px 1px 3px 1px rgba(60, 64, 67, 0.15);\n",
              "      fill: #174EA6;\n",
              "    }\n",
              "\n",
              "    [theme=dark] .colab-df-convert {\n",
              "      background-color: #3B4455;\n",
              "      fill: #D2E3FC;\n",
              "    }\n",
              "\n",
              "    [theme=dark] .colab-df-convert:hover {\n",
              "      background-color: #434B5C;\n",
              "      box-shadow: 0px 1px 3px 1px rgba(0, 0, 0, 0.15);\n",
              "      filter: drop-shadow(0px 1px 2px rgba(0, 0, 0, 0.3));\n",
              "      fill: #FFFFFF;\n",
              "    }\n",
              "  </style>\n",
              "\n",
              "      <script>\n",
              "        const buttonEl =\n",
              "          document.querySelector('#df-540b2dc7-84dc-4543-9685-b6e1a091876c button.colab-df-convert');\n",
              "        buttonEl.style.display =\n",
              "          google.colab.kernel.accessAllowed ? 'block' : 'none';\n",
              "\n",
              "        async function convertToInteractive(key) {\n",
              "          const element = document.querySelector('#df-540b2dc7-84dc-4543-9685-b6e1a091876c');\n",
              "          const dataTable =\n",
              "            await google.colab.kernel.invokeFunction('convertToInteractive',\n",
              "                                                     [key], {});\n",
              "          if (!dataTable) return;\n",
              "\n",
              "          const docLinkHtml = 'Like what you see? Visit the ' +\n",
              "            '<a target=\"_blank\" href=https://colab.research.google.com/notebooks/data_table.ipynb>data table notebook</a>'\n",
              "            + ' to learn more about interactive tables.';\n",
              "          element.innerHTML = '';\n",
              "          dataTable['output_type'] = 'display_data';\n",
              "          await google.colab.output.renderOutput(dataTable, element);\n",
              "          const docLink = document.createElement('div');\n",
              "          docLink.innerHTML = docLinkHtml;\n",
              "          element.appendChild(docLink);\n",
              "        }\n",
              "      </script>\n",
              "    </div>\n",
              "  </div>\n",
              "  "
            ]
          },
          "metadata": {},
          "execution_count": 126
        }
      ]
    },
    {
      "cell_type": "code",
      "source": [
        "data['Age'].describe()"
      ],
      "metadata": {
        "colab": {
          "base_uri": "https://localhost:8080/"
        },
        "id": "V50RPzjf2C6v",
        "outputId": "0023ce34-2508-47ec-bcfe-68a358ddbbcf"
      },
      "execution_count": null,
      "outputs": [
        {
          "output_type": "execute_result",
          "data": {
            "text/plain": [
              "count    3384.000000\n",
              "mean       54.775709\n",
              "std        11.731764\n",
              "min        35.000000\n",
              "25%        45.000000\n",
              "50%        55.000000\n",
              "75%        65.000000\n",
              "max        75.000000\n",
              "Name: Age, dtype: float64"
            ]
          },
          "metadata": {},
          "execution_count": 127
        }
      ]
    },
    {
      "cell_type": "code",
      "source": [
        "# Information in train part\n",
        "data.describe()"
      ],
      "metadata": {
        "colab": {
          "base_uri": "https://localhost:8080/",
          "height": 364
        },
        "id": "hVc1VuxDlUui",
        "outputId": "f9108a7f-2fd3-48eb-f8ee-d64491382711"
      },
      "execution_count": null,
      "outputs": [
        {
          "output_type": "execute_result",
          "data": {
            "text/plain": [
              "                LO          Age          SEX          EDU           SE  \\\n",
              "count  3384.000000  3384.000000  3384.000000  3384.000000  3384.000000   \n",
              "mean      3.677009    54.775709     0.498818     8.896868     1.991135   \n",
              "std       1.704264    11.731764     0.500072     5.432982     0.811121   \n",
              "min       1.000000    35.000000     0.000000     0.000000     1.000000   \n",
              "25%       2.000000    45.000000     0.000000     4.000000     1.000000   \n",
              "50%       4.000000    55.000000     0.000000     9.000000     2.000000   \n",
              "75%       5.000000    65.000000     1.000000    14.000000     3.000000   \n",
              "max       6.000000    75.000000     1.000000    18.000000     3.000000   \n",
              "\n",
              "              Hert        smoke          COV        COV-R         Alzh  \n",
              "count  3384.000000  3384.000000  3384.000000  3384.000000  3384.000000  \n",
              "mean      0.153960     0.499409     0.492317     1.958333     0.294917  \n",
              "std       0.360964     0.500074     0.500015     0.820071     0.456073  \n",
              "min       0.000000     0.000000     0.000000     1.000000     0.000000  \n",
              "25%       0.000000     0.000000     0.000000     1.000000     0.000000  \n",
              "50%       0.000000     0.000000     0.000000     2.000000     0.000000  \n",
              "75%       0.000000     1.000000     1.000000     3.000000     1.000000  \n",
              "max       1.000000     1.000000     1.000000     3.000000     1.000000  "
            ],
            "text/html": [
              "\n",
              "  <div id=\"df-9e0cf4e3-6536-4594-9560-4233ce755159\">\n",
              "    <div class=\"colab-df-container\">\n",
              "      <div>\n",
              "<style scoped>\n",
              "    .dataframe tbody tr th:only-of-type {\n",
              "        vertical-align: middle;\n",
              "    }\n",
              "\n",
              "    .dataframe tbody tr th {\n",
              "        vertical-align: top;\n",
              "    }\n",
              "\n",
              "    .dataframe thead th {\n",
              "        text-align: right;\n",
              "    }\n",
              "</style>\n",
              "<table border=\"1\" class=\"dataframe\">\n",
              "  <thead>\n",
              "    <tr style=\"text-align: right;\">\n",
              "      <th></th>\n",
              "      <th>LO</th>\n",
              "      <th>Age</th>\n",
              "      <th>SEX</th>\n",
              "      <th>EDU</th>\n",
              "      <th>SE</th>\n",
              "      <th>Hert</th>\n",
              "      <th>smoke</th>\n",
              "      <th>COV</th>\n",
              "      <th>COV-R</th>\n",
              "      <th>Alzh</th>\n",
              "    </tr>\n",
              "  </thead>\n",
              "  <tbody>\n",
              "    <tr>\n",
              "      <th>count</th>\n",
              "      <td>3384.000000</td>\n",
              "      <td>3384.000000</td>\n",
              "      <td>3384.000000</td>\n",
              "      <td>3384.000000</td>\n",
              "      <td>3384.000000</td>\n",
              "      <td>3384.000000</td>\n",
              "      <td>3384.000000</td>\n",
              "      <td>3384.000000</td>\n",
              "      <td>3384.000000</td>\n",
              "      <td>3384.000000</td>\n",
              "    </tr>\n",
              "    <tr>\n",
              "      <th>mean</th>\n",
              "      <td>3.677009</td>\n",
              "      <td>54.775709</td>\n",
              "      <td>0.498818</td>\n",
              "      <td>8.896868</td>\n",
              "      <td>1.991135</td>\n",
              "      <td>0.153960</td>\n",
              "      <td>0.499409</td>\n",
              "      <td>0.492317</td>\n",
              "      <td>1.958333</td>\n",
              "      <td>0.294917</td>\n",
              "    </tr>\n",
              "    <tr>\n",
              "      <th>std</th>\n",
              "      <td>1.704264</td>\n",
              "      <td>11.731764</td>\n",
              "      <td>0.500072</td>\n",
              "      <td>5.432982</td>\n",
              "      <td>0.811121</td>\n",
              "      <td>0.360964</td>\n",
              "      <td>0.500074</td>\n",
              "      <td>0.500015</td>\n",
              "      <td>0.820071</td>\n",
              "      <td>0.456073</td>\n",
              "    </tr>\n",
              "    <tr>\n",
              "      <th>min</th>\n",
              "      <td>1.000000</td>\n",
              "      <td>35.000000</td>\n",
              "      <td>0.000000</td>\n",
              "      <td>0.000000</td>\n",
              "      <td>1.000000</td>\n",
              "      <td>0.000000</td>\n",
              "      <td>0.000000</td>\n",
              "      <td>0.000000</td>\n",
              "      <td>1.000000</td>\n",
              "      <td>0.000000</td>\n",
              "    </tr>\n",
              "    <tr>\n",
              "      <th>25%</th>\n",
              "      <td>2.000000</td>\n",
              "      <td>45.000000</td>\n",
              "      <td>0.000000</td>\n",
              "      <td>4.000000</td>\n",
              "      <td>1.000000</td>\n",
              "      <td>0.000000</td>\n",
              "      <td>0.000000</td>\n",
              "      <td>0.000000</td>\n",
              "      <td>1.000000</td>\n",
              "      <td>0.000000</td>\n",
              "    </tr>\n",
              "    <tr>\n",
              "      <th>50%</th>\n",
              "      <td>4.000000</td>\n",
              "      <td>55.000000</td>\n",
              "      <td>0.000000</td>\n",
              "      <td>9.000000</td>\n",
              "      <td>2.000000</td>\n",
              "      <td>0.000000</td>\n",
              "      <td>0.000000</td>\n",
              "      <td>0.000000</td>\n",
              "      <td>2.000000</td>\n",
              "      <td>0.000000</td>\n",
              "    </tr>\n",
              "    <tr>\n",
              "      <th>75%</th>\n",
              "      <td>5.000000</td>\n",
              "      <td>65.000000</td>\n",
              "      <td>1.000000</td>\n",
              "      <td>14.000000</td>\n",
              "      <td>3.000000</td>\n",
              "      <td>0.000000</td>\n",
              "      <td>1.000000</td>\n",
              "      <td>1.000000</td>\n",
              "      <td>3.000000</td>\n",
              "      <td>1.000000</td>\n",
              "    </tr>\n",
              "    <tr>\n",
              "      <th>max</th>\n",
              "      <td>6.000000</td>\n",
              "      <td>75.000000</td>\n",
              "      <td>1.000000</td>\n",
              "      <td>18.000000</td>\n",
              "      <td>3.000000</td>\n",
              "      <td>1.000000</td>\n",
              "      <td>1.000000</td>\n",
              "      <td>1.000000</td>\n",
              "      <td>3.000000</td>\n",
              "      <td>1.000000</td>\n",
              "    </tr>\n",
              "  </tbody>\n",
              "</table>\n",
              "</div>\n",
              "      <button class=\"colab-df-convert\" onclick=\"convertToInteractive('df-9e0cf4e3-6536-4594-9560-4233ce755159')\"\n",
              "              title=\"Convert this dataframe to an interactive table.\"\n",
              "              style=\"display:none;\">\n",
              "        \n",
              "  <svg xmlns=\"http://www.w3.org/2000/svg\" height=\"24px\"viewBox=\"0 0 24 24\"\n",
              "       width=\"24px\">\n",
              "    <path d=\"M0 0h24v24H0V0z\" fill=\"none\"/>\n",
              "    <path d=\"M18.56 5.44l.94 2.06.94-2.06 2.06-.94-2.06-.94-.94-2.06-.94 2.06-2.06.94zm-11 1L8.5 8.5l.94-2.06 2.06-.94-2.06-.94L8.5 2.5l-.94 2.06-2.06.94zm10 10l.94 2.06.94-2.06 2.06-.94-2.06-.94-.94-2.06-.94 2.06-2.06.94z\"/><path d=\"M17.41 7.96l-1.37-1.37c-.4-.4-.92-.59-1.43-.59-.52 0-1.04.2-1.43.59L10.3 9.45l-7.72 7.72c-.78.78-.78 2.05 0 2.83L4 21.41c.39.39.9.59 1.41.59.51 0 1.02-.2 1.41-.59l7.78-7.78 2.81-2.81c.8-.78.8-2.07 0-2.86zM5.41 20L4 18.59l7.72-7.72 1.47 1.35L5.41 20z\"/>\n",
              "  </svg>\n",
              "      </button>\n",
              "      \n",
              "  <style>\n",
              "    .colab-df-container {\n",
              "      display:flex;\n",
              "      flex-wrap:wrap;\n",
              "      gap: 12px;\n",
              "    }\n",
              "\n",
              "    .colab-df-convert {\n",
              "      background-color: #E8F0FE;\n",
              "      border: none;\n",
              "      border-radius: 50%;\n",
              "      cursor: pointer;\n",
              "      display: none;\n",
              "      fill: #1967D2;\n",
              "      height: 32px;\n",
              "      padding: 0 0 0 0;\n",
              "      width: 32px;\n",
              "    }\n",
              "\n",
              "    .colab-df-convert:hover {\n",
              "      background-color: #E2EBFA;\n",
              "      box-shadow: 0px 1px 2px rgba(60, 64, 67, 0.3), 0px 1px 3px 1px rgba(60, 64, 67, 0.15);\n",
              "      fill: #174EA6;\n",
              "    }\n",
              "\n",
              "    [theme=dark] .colab-df-convert {\n",
              "      background-color: #3B4455;\n",
              "      fill: #D2E3FC;\n",
              "    }\n",
              "\n",
              "    [theme=dark] .colab-df-convert:hover {\n",
              "      background-color: #434B5C;\n",
              "      box-shadow: 0px 1px 3px 1px rgba(0, 0, 0, 0.15);\n",
              "      filter: drop-shadow(0px 1px 2px rgba(0, 0, 0, 0.3));\n",
              "      fill: #FFFFFF;\n",
              "    }\n",
              "  </style>\n",
              "\n",
              "      <script>\n",
              "        const buttonEl =\n",
              "          document.querySelector('#df-9e0cf4e3-6536-4594-9560-4233ce755159 button.colab-df-convert');\n",
              "        buttonEl.style.display =\n",
              "          google.colab.kernel.accessAllowed ? 'block' : 'none';\n",
              "\n",
              "        async function convertToInteractive(key) {\n",
              "          const element = document.querySelector('#df-9e0cf4e3-6536-4594-9560-4233ce755159');\n",
              "          const dataTable =\n",
              "            await google.colab.kernel.invokeFunction('convertToInteractive',\n",
              "                                                     [key], {});\n",
              "          if (!dataTable) return;\n",
              "\n",
              "          const docLinkHtml = 'Like what you see? Visit the ' +\n",
              "            '<a target=\"_blank\" href=https://colab.research.google.com/notebooks/data_table.ipynb>data table notebook</a>'\n",
              "            + ' to learn more about interactive tables.';\n",
              "          element.innerHTML = '';\n",
              "          dataTable['output_type'] = 'display_data';\n",
              "          await google.colab.output.renderOutput(dataTable, element);\n",
              "          const docLink = document.createElement('div');\n",
              "          docLink.innerHTML = docLinkHtml;\n",
              "          element.appendChild(docLink);\n",
              "        }\n",
              "      </script>\n",
              "    </div>\n",
              "  </div>\n",
              "  "
            ]
          },
          "metadata": {},
          "execution_count": 128
        }
      ]
    },
    {
      "cell_type": "code",
      "source": [
        "data_corr = data.corr()\n",
        "sns.heatmap(data_corr)"
      ],
      "metadata": {
        "colab": {
          "base_uri": "https://localhost:8080/",
          "height": 309
        },
        "id": "gluQjGoAld1g",
        "outputId": "8e03d22e-9cfa-4057-b7bf-c4d58b5bdb60"
      },
      "execution_count": null,
      "outputs": [
        {
          "output_type": "execute_result",
          "data": {
            "text/plain": [
              "<matplotlib.axes._subplots.AxesSubplot at 0x7fe4cb4ccd10>"
            ]
          },
          "metadata": {},
          "execution_count": 129
        },
        {
          "output_type": "display_data",
          "data": {
            "text/plain": [
              "<Figure size 432x288 with 2 Axes>"
            ],
            "image/png": "[encoded data removed]"
          },
          "metadata": {
            "needs_background": "light"
          }
        }
      ]
    },
    {
      "cell_type": "code",
      "source": [
        "# Seprate label and feature\n",
        "labels = data['Alzh']\n",
        "features = data.drop('Alzh', axis=1)\n",
        "features = features.drop('SEX', axis=1)\n",
        "\n",
        "features_list = list(features.columns)\n"
      ],
      "metadata": {
        "id": "N4UG-Z0vmnjH"
      },
      "execution_count": null,
      "outputs": []
    },
    {
      "cell_type": "code",
      "source": [
        "# Train, Test split\n",
        "train_features, test_features, train_labels, test_labels = train_test_split(\n",
        "    features, \n",
        "    labels, \n",
        "    test_size = 0.25, \n",
        "    random_state = 42\n",
        "    )\n",
        "\n",
        "print(\"Train: \", len(train_features))\n",
        "print(\"Test : \", len(test_features))"
      ],
      "metadata": {
        "colab": {
          "base_uri": "https://localhost:8080/"
        },
        "id": "JriAAFgLqfJ9",
        "outputId": "33337ea4-062b-4187-f8b2-40de988bb867"
      },
      "execution_count": null,
      "outputs": [
        {
          "output_type": "stream",
          "name": "stdout",
          "text": [
            "Train:  2538\n",
            "Test :  846\n"
          ]
        }
      ]
    },
    {
      "cell_type": "markdown",
      "source": [
        "# Random Forest"
      ],
      "metadata": {
        "id": "8GU3r3oS_COY"
      }
    },
    {
      "cell_type": "code",
      "source": [
        "# Instantiate model with 1000 decision trees\n",
        "rf = RandomForestRegressor(n_estimators = 1000, random_state = 42)\n",
        "# Train the model on training data\n",
        "rf.fit(train_features, train_labels)"
      ],
      "metadata": {
        "colab": {
          "base_uri": "https://localhost:8080/"
        },
        "id": "HUAEFlsQqfMW",
        "outputId": "53703ea8-1ac0-4636-a4a9-dfb7845bf1d0"
      },
      "execution_count": null,
      "outputs": [
        {
          "output_type": "execute_result",
          "data": {
            "text/plain": [
              "RandomForestRegressor(n_estimators=1000, random_state=42)"
            ]
          },
          "metadata": {},
          "execution_count": 132
        }
      ]
    },
    {
      "cell_type": "code",
      "source": [
        "# Use the forest's predict method on the test data\n",
        "predictions = rf.predict(test_features)\n",
        "\n",
        "# --- Find MAE\n",
        "errors = abs(predictions - test_labels)\n",
        "print('Mean Absolute Error:', np.mean(errors))\n",
        "\n",
        "\n",
        "# --- Find accuracy\n",
        "# set threshold\n",
        "predictions[predictions >= 0.5] = 1\n",
        "predictions[predictions < 0.5] = 0\n",
        "\n",
        "# Which one is correct: \n",
        "diff = predictions - np.array(test_labels)\n",
        "True_pred = len(diff[diff == 0])\n",
        "print(\"Accuracy           : \", True_pred/len(diff) * 100)\n"
      ],
      "metadata": {
        "colab": {
          "base_uri": "https://localhost:8080/"
        },
        "id": "obxS1-X2qfOQ",
        "outputId": "885c4456-ef86-4e09-c0b5-630dd322a797"
      },
      "execution_count": null,
      "outputs": [
        {
          "output_type": "stream",
          "name": "stdout",
          "text": [
            "Mean Absolute Error: 0.20058930822920187\n",
            "Accuracy           :  83.92434988179669\n"
          ]
        }
      ]
    },
    {
      "cell_type": "code",
      "source": [
        "# --- Calculate precision and recall with cf matix\n",
        "cf_matrix = confusion_matrix(predictions, np.array(test_labels))\n",
        "precision = precision_score(predictions, np.array(test_labels))\n",
        "recall    = recall_score(predictions, np.array(test_labels))\n",
        "f1        = f1_score(predictions, np.array(test_labels))\n",
        "\n",
        "# Namee\n",
        "group_names = ['True Neg',\n",
        "               'False Pos',\n",
        "               'False Neg',\n",
        "               'True Pos']\n",
        "\n",
        "# find precentages of each confusion matrix\n",
        "group_percentages = ['{0:.2%}'.format(value) for value in cf_matrix.flatten()/np.sum(cf_matrix)]\n",
        "\n",
        "# Make labels\n",
        "labels = [f'{v1}\\n{v2}' for v1, v2 in zip(group_names,group_percentages)]\n",
        "labels = np.asarray(labels).reshape(2,2)\n",
        "\n",
        "# Plot heatmap\n",
        "sns.heatmap(cf_matrix, annot=labels, fmt='')\n",
        "\n",
        "# Print Info \n",
        "print(\" --------- Result of Random forest ---------\")\n",
        "print(\"Random forest precision : \", precision)\n",
        "print(\"Random forest recall    : \", recall)\n",
        "print(\"Random forest F1 Score  : \", f1)\n",
        "print(\"\\n\")"
      ],
      "metadata": {
        "colab": {
          "base_uri": "https://localhost:8080/",
          "height": 369
        },
        "id": "HQyIoPsHk2Ge",
        "outputId": "fff773d5-ddcc-4f37-acd5-d83ef7c9cac7"
      },
      "execution_count": null,
      "outputs": [
        {
          "output_type": "stream",
          "name": "stdout",
          "text": [
            " --------- Result of Random forest ---------\n",
            "Random forest precision :  0.6181818181818182\n",
            "Random forest recall    :  0.845771144278607\n",
            "Random forest F1 Score  :  0.7142857142857144\n",
            "\n",
            "\n"
          ]
        },
        {
          "output_type": "display_data",
          "data": {
            "text/plain": [
              "<Figure size 432x288 with 2 Axes>"
            ],
            "image/png": "[encoded data removed]"
          },
          "metadata": {
            "needs_background": "light"
          }
        }
      ]
    },
    {
      "cell_type": "code",
      "source": [
        "accu_dict['random_forest']      = True_pred/len(diff)\n",
        "precision_dict['random_forest'] = precision\n",
        "recall_dict['random_forest']    = recall\n",
        "f1_dict['random_forest'] = f1"
      ],
      "metadata": {
        "id": "a7YP8avfH9L1"
      },
      "execution_count": null,
      "outputs": []
    },
    {
      "cell_type": "markdown",
      "source": [
        "# KNN Algorithms"
      ],
      "metadata": {
        "id": "ME5Cw64fNePs"
      }
    },
    {
      "cell_type": "code",
      "source": [
        "# Fit model\n",
        "knn_model = KNeighborsRegressor(n_neighbors=12)\n",
        "knn_model.fit(train_features, train_labels)"
      ],
      "metadata": {
        "id": "claUNKaaJBDL",
        "colab": {
          "base_uri": "https://localhost:8080/"
        },
        "outputId": "65b9228e-7329-4b23-f9ac-5aae086c23dd"
      },
      "execution_count": null,
      "outputs": [
        {
          "output_type": "execute_result",
          "data": {
            "text/plain": [
              "KNeighborsRegressor(n_neighbors=12)"
            ]
          },
          "metadata": {},
          "execution_count": 136
        }
      ]
    },
    {
      "cell_type": "code",
      "source": [
        "# Predict test part of dataset\n",
        "predictions = knn_model.predict(test_features)"
      ],
      "metadata": {
        "id": "oMLZhRznJBF6"
      },
      "execution_count": null,
      "outputs": []
    },
    {
      "cell_type": "code",
      "source": [
        "# --- Find RMSE\n",
        "mse = mean_squared_error(test_labels, predictions)\n",
        "print(\"MSE                : \", mse)\n",
        "# --- Find accuracy\n",
        "# set threshold\n",
        "predictions[predictions >= 0.5] = 1\n",
        "predictions[predictions < 0.5] = 0\n",
        "\n",
        "# Which one is correct: \n",
        "diff = predictions - np.array(test_labels)\n",
        "True_pred = len(diff[diff == 0])\n",
        "print(\"Accuracy           : \", True_pred/len(diff) * 100)\n"
      ],
      "metadata": {
        "id": "16V2o5L4JBH9",
        "colab": {
          "base_uri": "https://localhost:8080/"
        },
        "outputId": "93dc5c33-4cd4-45fd-f38b-e69e0d7c6bb6"
      },
      "execution_count": null,
      "outputs": [
        {
          "output_type": "stream",
          "name": "stdout",
          "text": [
            "MSE                :  0.20645357236669293\n",
            "Accuracy           :  70.09456264775413\n"
          ]
        }
      ]
    },
    {
      "cell_type": "code",
      "source": [
        "# --- Calculate precision and recall with cf matix\n",
        "cf_matrix = confusion_matrix(predictions, np.array(test_labels))\n",
        "precision = precision_score(predictions, np.array(test_labels))\n",
        "recall    = recall_score(predictions, np.array(test_labels))\n",
        "f1        = f1_score(predictions, np.array(test_labels))\n",
        "\n",
        "\n",
        "# Namee\n",
        "group_names = ['True Neg',\n",
        "               'False Pos',\n",
        "               'False Neg',\n",
        "               'True Pos']\n",
        "\n",
        "# find precentages of each confusion matrix\n",
        "group_percentages = ['{0:.2%}'.format(value) for value in cf_matrix.flatten()/np.sum(cf_matrix)]\n",
        "\n",
        "# Make labels\n",
        "labels = [f'{v1}\\n{v2}' for v1, v2 in zip(group_names,group_percentages)]\n",
        "labels = np.asarray(labels).reshape(2,2)\n",
        "\n",
        "# Plot heatmap\n",
        "sns.heatmap(cf_matrix, annot=labels, fmt='')\n",
        "\n",
        "# Print Info \n",
        "print(\" --------- Result of Random forest ---------\")\n",
        "print(\"KNN precision : \", precision)\n",
        "print(\"KNN recall    : \", recall)\n",
        "print(\"KNN F1 Score  : \", f1)\n",
        "print(\"\\n\")"
      ],
      "metadata": {
        "colab": {
          "base_uri": "https://localhost:8080/",
          "height": 369
        },
        "id": "yNEuijZojkg9",
        "outputId": "a7c0df02-573e-4ce8-b836-92ac74f33e35"
      },
      "execution_count": null,
      "outputs": [
        {
          "output_type": "stream",
          "name": "stdout",
          "text": [
            " --------- Result of Random forest ---------\n",
            "KNN precision :  0.16363636363636364\n",
            "KNN recall    :  0.6617647058823529\n",
            "KNN F1 Score  :  0.26239067055393583\n",
            "\n",
            "\n"
          ]
        },
        {
          "output_type": "display_data",
          "data": {
            "text/plain": [
              "<Figure size 432x288 with 2 Axes>"
            ],
            "image/png": "[encoded data removed]"
          },
          "metadata": {
            "needs_background": "light"
          }
        }
      ]
    },
    {
      "cell_type": "code",
      "source": [
        "accu_dict['knn']      = True_pred/len(diff)\n",
        "precision_dict['knn'] = precision\n",
        "recall_dict['knn']    = recall\n",
        "f1_dict['knn'] = f1"
      ],
      "metadata": {
        "id": "F1lcuTu0jkjZ"
      },
      "execution_count": null,
      "outputs": []
    },
    {
      "cell_type": "markdown",
      "source": [
        "# Naive Bayes"
      ],
      "metadata": {
        "id": "fP52mf5gk6dt"
      }
    },
    {
      "cell_type": "code",
      "source": [
        "# Model fit\n",
        "bayes_model = GaussianNB()\n",
        "bayes_model.fit(train_features, train_labels)"
      ],
      "metadata": {
        "colab": {
          "base_uri": "https://localhost:8080/"
        },
        "id": "1MS2i7tDjkl7",
        "outputId": "17e18635-c05c-4cfa-b0ca-beb36e59a231"
      },
      "execution_count": null,
      "outputs": [
        {
          "output_type": "execute_result",
          "data": {
            "text/plain": [
              "GaussianNB()"
            ]
          },
          "metadata": {},
          "execution_count": 141
        }
      ]
    },
    {
      "cell_type": "code",
      "source": [
        "# Predict test part of dataset\n",
        "predictions = bayes_model.predict(test_features)"
      ],
      "metadata": {
        "id": "ZVyjY6Zmjkn4"
      },
      "execution_count": null,
      "outputs": []
    },
    {
      "cell_type": "code",
      "source": [
        "# --- Find RMSE\n",
        "mse = mean_squared_error(test_labels, predictions)\n",
        "print(\"MSE                : \", mse)\n",
        "# --- Find accuracy\n",
        "# set threshold\n",
        "predictions[predictions >= 0.5] = 1\n",
        "predictions[predictions < 0.5] = 0\n",
        "\n",
        "# Which one is correct: \n",
        "diff = predictions - np.array(test_labels)\n",
        "True_pred = len(diff[diff == 0])\n",
        "print(\"Accuracy           : \", True_pred/len(diff) * 100)\n"
      ],
      "metadata": {
        "colab": {
          "base_uri": "https://localhost:8080/"
        },
        "id": "935CjydUiXv_",
        "outputId": "fe52671d-bc84-4e0b-8853-b707a4467985"
      },
      "execution_count": null,
      "outputs": [
        {
          "output_type": "stream",
          "name": "stdout",
          "text": [
            "MSE                :  0.14893617021276595\n",
            "Accuracy           :  85.1063829787234\n"
          ]
        }
      ]
    },
    {
      "cell_type": "code",
      "source": [
        "# --- Calculate precision and recall with cf matix\n",
        "cf_matrix = confusion_matrix(predictions, np.array(test_labels))\n",
        "precision = precision_score(predictions, np.array(test_labels))\n",
        "recall    = recall_score(predictions, np.array(test_labels))\n",
        "f1        = f1_score(predictions, np.array(test_labels))\n",
        "\n",
        "\n",
        "# Namee\n",
        "group_names = ['True Neg',\n",
        "               'False Pos',\n",
        "               'False Neg',\n",
        "               'True Pos']\n",
        "\n",
        "# find precentages of each confusion matrix\n",
        "group_percentages = ['{0:.2%}'.format(value) for value in cf_matrix.flatten()/np.sum(cf_matrix)]\n",
        "\n",
        "# Make labels\n",
        "labels = [f'{v1}\\n{v2}' for v1, v2 in zip(group_names,group_percentages)]\n",
        "labels = np.asarray(labels).reshape(2,2)\n",
        "\n",
        "# Plot heatmap\n",
        "sns.heatmap(cf_matrix, annot=labels, fmt='')\n",
        "\n",
        "# Print Info \n",
        "print(\" --------- Result of Random forest ---------\")\n",
        "print(\"Bayes precision : \", precision)\n",
        "print(\"Bayes recall    : \", recall)\n",
        "print(\"Bayes F1 Score  : \", f1)\n",
        "print(\"\\n\")"
      ],
      "metadata": {
        "colab": {
          "base_uri": "https://localhost:8080/",
          "height": 369
        },
        "id": "sHejnYXziijN",
        "outputId": "e029ec0a-0af1-4dd7-9903-2a0ebaef60be"
      },
      "execution_count": null,
      "outputs": [
        {
          "output_type": "stream",
          "name": "stdout",
          "text": [
            " --------- Result of Random forest ---------\n",
            "Bayes precision :  0.5418181818181819\n",
            "Bayes recall    :  1.0\n",
            "Bayes F1 Score  :  0.7028301886792453\n",
            "\n",
            "\n"
          ]
        },
        {
          "output_type": "display_data",
          "data": {
            "text/plain": [
              "<Figure size 432x288 with 2 Axes>"
            ],
            "image/png": "[encoded data removed]"
          },
          "metadata": {
            "needs_background": "light"
          }
        }
      ]
    },
    {
      "cell_type": "code",
      "source": [
        "accu_dict['bayes']      = True_pred/len(diff)\n",
        "precision_dict['bayes'] = precision\n",
        "recall_dict['bayes']    = recall\n",
        "f1_dict['bayes'] = f1"
      ],
      "metadata": {
        "id": "z6mwTtf0pIJt"
      },
      "execution_count": null,
      "outputs": []
    },
    {
      "cell_type": "code",
      "source": [
        ""
      ],
      "metadata": {
        "id": "Uqxm4000rxtt"
      },
      "execution_count": null,
      "outputs": []
    },
    {
      "cell_type": "code",
      "source": [
        ""
      ],
      "metadata": {
        "id": "jVSKuwspr462"
      },
      "execution_count": null,
      "outputs": []
    },
    {
      "cell_type": "markdown",
      "source": [
        "# Results plotting"
      ],
      "metadata": {
        "id": "BnC94Oibr8XR"
      }
    },
    {
      "cell_type": "code",
      "source": [
        "# Accuracy\n",
        " \n",
        "plt.bar([\"Random Forest\", \"KNN\", \"Bayes\"], [accu_dict['random_forest'], accu_dict['knn'], accu_dict['bayes']],\n",
        "        width = 0.5)\n",
        " \n",
        "plt.xlabel(\"Methods\")\n",
        "plt.ylabel(\"Accuracy\")\n",
        "plt.title(\"Compare accuracy for ML\")\n",
        "plt.show()\n"
      ],
      "metadata": {
        "colab": {
          "base_uri": "https://localhost:8080/",
          "height": 295
        },
        "id": "ehaXBpOUr_Zw",
        "outputId": "46f54fc7-6dab-42eb-deb6-a90e98366b6b"
      },
      "execution_count": null,
      "outputs": [
        {
          "output_type": "display_data",
          "data": {
            "text/plain": [
              "<Figure size 432x288 with 1 Axes>"
            ],
            "image/png": "[encoded data removed]"
          },
          "metadata": {
            "needs_background": "light"
          }
        }
      ]
    },
    {
      "cell_type": "code",
      "source": [
        "# precision\n",
        " \n",
        "plt.bar([\"Random Forest\", \"KNN\", \"Bayes\"], [precision_dict['random_forest'], precision_dict['knn'], precision_dict['bayes']],\n",
        "        width = 0.5)\n",
        "\n",
        "plt.xlabel(\"Methods\")\n",
        "plt.ylabel(\"Precision\")\n",
        "plt.title(\"Compare  precision for ML\")\n",
        "plt.show()\n"
      ],
      "metadata": {
        "colab": {
          "base_uri": "https://localhost:8080/",
          "height": 295
        },
        "id": "uN41GCjDtYEn",
        "outputId": "a3f23108-56a4-4eec-ce91-e9cac055c6c2"
      },
      "execution_count": null,
      "outputs": [
        {
          "output_type": "display_data",
          "data": {
            "text/plain": [
              "<Figure size 432x288 with 1 Axes>"
            ],
            "image/png": "[encoded data removed]"
          },
          "metadata": {
            "needs_background": "light"
          }
        }
      ]
    },
    {
      "cell_type": "code",
      "source": [
        "# recall\n",
        " \n",
        "plt.bar([\"Random Forest\", \"KNN\", \"Bayes\"], [recall_dict['random_forest'], recall_dict['knn'], recall_dict['bayes']],\n",
        "        width = 0.5)\n",
        "\n",
        "plt.xlabel(\"Methods\")\n",
        "plt.ylabel(\"Recall\")\n",
        "plt.title(\"Compare  recall for ML\")\n",
        "plt.show()"
      ],
      "metadata": {
        "colab": {
          "base_uri": "https://localhost:8080/",
          "height": 295
        },
        "id": "U4UiLRRss7p0",
        "outputId": "5bfbe6b2-9ba0-42ab-f3e2-dd9f38353990"
      },
      "execution_count": null,
      "outputs": [
        {
          "output_type": "display_data",
          "data": {
            "text/plain": [
              "<Figure size 432x288 with 1 Axes>"
            ],
            "image/png": "[encoded data removed]"
          },
          "metadata": {
            "needs_background": "light"
          }
        }
      ]
    },
    {
      "cell_type": "code",
      "source": [
        "# F1 Score\n",
        " \n",
        "plt.bar([\"Random Forest\", \"KNN\", \"Bayes\"], [f1_dict['random_forest'], f1_dict['knn'], f1_dict['bayes']],\n",
        "        width = 0.5)\n",
        "\n",
        "plt.xlabel(\"Methods\")\n",
        "plt.ylabel(\"F1\")\n",
        "plt.title(\"Compare  F1 score for ML\")\n",
        "plt.show()"
      ],
      "metadata": {
        "colab": {
          "base_uri": "https://localhost:8080/",
          "height": 295
        },
        "id": "1mxL-EUgs73I",
        "outputId": "606dd996-147a-4037-8b6a-e66c5ccd82c9"
      },
      "execution_count": null,
      "outputs": [
        {
          "output_type": "display_data",
          "data": {
            "text/plain": [
              "<Figure size 432x288 with 1 Axes>"
            ],
            "image/png": "[encoded data removed]"
          },
          "metadata": {
            "needs_background": "light"
          }
        }
      ]
    },
    {
      "cell_type": "code",
      "source": [
        ""
      ],
      "metadata": {
        "id": "u4TDrR-GwLpU"
      },
      "execution_count": null,
      "outputs": []
    }
  ]
}