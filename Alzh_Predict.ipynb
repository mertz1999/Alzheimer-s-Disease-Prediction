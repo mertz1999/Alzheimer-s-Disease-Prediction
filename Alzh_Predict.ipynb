{
  "nbformat": 4,
  "nbformat_minor": 0,
  "metadata": {
    "colab": {
      "name": "Alzh-Predict.ipynb",
      "provenance": [],
      "collapsed_sections": [],
      "authorship_tag": "ABX9TyMzNPSH5pdmtS6PvDCVLp9t",
      "include_colab_link": true
    },
    "kernelspec": {
      "name": "python3",
      "display_name": "Python 3"
    },
    "language_info": {
      "name": "python"
    }
  },
  "cells": [
    {
      "cell_type": "markdown",
      "metadata": {
        "id": "view-in-github",
        "colab_type": "text"
      },
      "source": [
        "<a href=\"https://colab.research.google.com/github/mertz1999/Alzheimer-s-Disease-Prediction/blob/main/Alzh_Predict.ipynb\" target=\"_parent\"><img src=\"https://colab.research.google.com/assets/colab-badge.svg\" alt=\"Open In Colab\"/></a>"
      ]
    },
    {
      "cell_type": "code",
      "execution_count": 64,
      "metadata": {
        "id": "bdepBMcIkUgj"
      },
      "outputs": [],
      "source": [
        "#Loading packages\n",
        "import pandas as pd\n",
        "from sklearn.model_selection import train_test_split\n",
        "from sklearn.ensemble import RandomForestRegressor\n",
        "import seaborn as sns\n",
        "import matplotlib.pyplot as plt\n",
        "import numpy as np\n",
        "from sklearn.metrics import confusion_matrix, precision_score, recall_score\n",
        "from sklearn.neighbors import KNeighborsRegressor\n",
        "from sklearn.metrics import mean_squared_error\n",
        "from math import sqrt\n",
        "from sklearn.naive_bayes import GaussianNB"
      ]
    },
    {
      "cell_type": "code",
      "source": [
        "# Variable to save information in each step\n",
        "accu_dict = {\n",
        "    \"random_forest\" : 0.0,\n",
        "    \"knn\"           : 0.0,\n",
        "    \"Bayes\"         : 0.0,\n",
        "            } \n",
        "\n"
      ],
      "metadata": {
        "id": "hJoV5I-AqB8P"
      },
      "execution_count": null,
      "outputs": []
    },
    {
      "cell_type": "code",
      "source": [
        "# Loafing Data \n",
        "data = pd.read_excel('Data.xlsx')\n",
        "data = data.drop('ID', axis=1)\n",
        "data"
      ],
      "metadata": {
        "colab": {
          "base_uri": "https://localhost:8080/",
          "height": 424
        },
        "id": "dAHAzyE5khBj",
        "outputId": "a41ad1da-beb7-4db2-a150-91aab672e866"
      },
      "execution_count": 3,
      "outputs": [
        {
          "output_type": "execute_result",
          "data": {
            "text/plain": [
              "      LO  Age  SEX  EDU  SE  Hert  smoke  COV  COV-R  Alzh\n",
              "0      1   62    1   13   2     1      1    1      2     1\n",
              "1      1   73    0   16   2     1      1    1      2     1\n",
              "2      1   39    0    6   2     1      0    1      2     1\n",
              "3      1   60    1    0   2     0      1    1      1     1\n",
              "4      1   64    0   18   3     0      0    1      3     1\n",
              "...   ..  ...  ...  ...  ..   ...    ...  ...    ...   ...\n",
              "3379   6   73    1   10   2     0      0    0      2     0\n",
              "3380   6   49    1   10   3     0      0    0      2     0\n",
              "3381   6   51    1    6   3     0      0    0      3     0\n",
              "3382   6   64    0   12   3     0      0    0      1     0\n",
              "3383   6   64    1    9   3     0      1    0      1     0\n",
              "\n",
              "[3384 rows x 10 columns]"
            ],
            "text/html": [
              "\n",
              "  <div id=\"df-a59aa4d0-120c-48d5-b564-3c13d4083917\">\n",
              "    <div class=\"colab-df-container\">\n",
              "      <div>\n",
              "<style scoped>\n",
              "    .dataframe tbody tr th:only-of-type {\n",
              "        vertical-align: middle;\n",
              "    }\n",
              "\n",
              "    .dataframe tbody tr th {\n",
              "        vertical-align: top;\n",
              "    }\n",
              "\n",
              "    .dataframe thead th {\n",
              "        text-align: right;\n",
              "    }\n",
              "</style>\n",
              "<table border=\"1\" class=\"dataframe\">\n",
              "  <thead>\n",
              "    <tr style=\"text-align: right;\">\n",
              "      <th></th>\n",
              "      <th>LO</th>\n",
              "      <th>Age</th>\n",
              "      <th>SEX</th>\n",
              "      <th>EDU</th>\n",
              "      <th>SE</th>\n",
              "      <th>Hert</th>\n",
              "      <th>smoke</th>\n",
              "      <th>COV</th>\n",
              "      <th>COV-R</th>\n",
              "      <th>Alzh</th>\n",
              "    </tr>\n",
              "  </thead>\n",
              "  <tbody>\n",
              "    <tr>\n",
              "      <th>0</th>\n",
              "      <td>1</td>\n",
              "      <td>62</td>\n",
              "      <td>1</td>\n",
              "      <td>13</td>\n",
              "      <td>2</td>\n",
              "      <td>1</td>\n",
              "      <td>1</td>\n",
              "      <td>1</td>\n",
              "      <td>2</td>\n",
              "      <td>1</td>\n",
              "    </tr>\n",
              "    <tr>\n",
              "      <th>1</th>\n",
              "      <td>1</td>\n",
              "      <td>73</td>\n",
              "      <td>0</td>\n",
              "      <td>16</td>\n",
              "      <td>2</td>\n",
              "      <td>1</td>\n",
              "      <td>1</td>\n",
              "      <td>1</td>\n",
              "      <td>2</td>\n",
              "      <td>1</td>\n",
              "    </tr>\n",
              "    <tr>\n",
              "      <th>2</th>\n",
              "      <td>1</td>\n",
              "      <td>39</td>\n",
              "      <td>0</td>\n",
              "      <td>6</td>\n",
              "      <td>2</td>\n",
              "      <td>1</td>\n",
              "      <td>0</td>\n",
              "      <td>1</td>\n",
              "      <td>2</td>\n",
              "      <td>1</td>\n",
              "    </tr>\n",
              "    <tr>\n",
              "      <th>3</th>\n",
              "      <td>1</td>\n",
              "      <td>60</td>\n",
              "      <td>1</td>\n",
              "      <td>0</td>\n",
              "      <td>2</td>\n",
              "      <td>0</td>\n",
              "      <td>1</td>\n",
              "      <td>1</td>\n",
              "      <td>1</td>\n",
              "      <td>1</td>\n",
              "    </tr>\n",
              "    <tr>\n",
              "      <th>4</th>\n",
              "      <td>1</td>\n",
              "      <td>64</td>\n",
              "      <td>0</td>\n",
              "      <td>18</td>\n",
              "      <td>3</td>\n",
              "      <td>0</td>\n",
              "      <td>0</td>\n",
              "      <td>1</td>\n",
              "      <td>3</td>\n",
              "      <td>1</td>\n",
              "    </tr>\n",
              "    <tr>\n",
              "      <th>...</th>\n",
              "      <td>...</td>\n",
              "      <td>...</td>\n",
              "      <td>...</td>\n",
              "      <td>...</td>\n",
              "      <td>...</td>\n",
              "      <td>...</td>\n",
              "      <td>...</td>\n",
              "      <td>...</td>\n",
              "      <td>...</td>\n",
              "      <td>...</td>\n",
              "    </tr>\n",
              "    <tr>\n",
              "      <th>3379</th>\n",
              "      <td>6</td>\n",
              "      <td>73</td>\n",
              "      <td>1</td>\n",
              "      <td>10</td>\n",
              "      <td>2</td>\n",
              "      <td>0</td>\n",
              "      <td>0</td>\n",
              "      <td>0</td>\n",
              "      <td>2</td>\n",
              "      <td>0</td>\n",
              "    </tr>\n",
              "    <tr>\n",
              "      <th>3380</th>\n",
              "      <td>6</td>\n",
              "      <td>49</td>\n",
              "      <td>1</td>\n",
              "      <td>10</td>\n",
              "      <td>3</td>\n",
              "      <td>0</td>\n",
              "      <td>0</td>\n",
              "      <td>0</td>\n",
              "      <td>2</td>\n",
              "      <td>0</td>\n",
              "    </tr>\n",
              "    <tr>\n",
              "      <th>3381</th>\n",
              "      <td>6</td>\n",
              "      <td>51</td>\n",
              "      <td>1</td>\n",
              "      <td>6</td>\n",
              "      <td>3</td>\n",
              "      <td>0</td>\n",
              "      <td>0</td>\n",
              "      <td>0</td>\n",
              "      <td>3</td>\n",
              "      <td>0</td>\n",
              "    </tr>\n",
              "    <tr>\n",
              "      <th>3382</th>\n",
              "      <td>6</td>\n",
              "      <td>64</td>\n",
              "      <td>0</td>\n",
              "      <td>12</td>\n",
              "      <td>3</td>\n",
              "      <td>0</td>\n",
              "      <td>0</td>\n",
              "      <td>0</td>\n",
              "      <td>1</td>\n",
              "      <td>0</td>\n",
              "    </tr>\n",
              "    <tr>\n",
              "      <th>3383</th>\n",
              "      <td>6</td>\n",
              "      <td>64</td>\n",
              "      <td>1</td>\n",
              "      <td>9</td>\n",
              "      <td>3</td>\n",
              "      <td>0</td>\n",
              "      <td>1</td>\n",
              "      <td>0</td>\n",
              "      <td>1</td>\n",
              "      <td>0</td>\n",
              "    </tr>\n",
              "  </tbody>\n",
              "</table>\n",
              "<p>3384 rows × 10 columns</p>\n",
              "</div>\n",
              "      <button class=\"colab-df-convert\" onclick=\"convertToInteractive('df-a59aa4d0-120c-48d5-b564-3c13d4083917')\"\n",
              "              title=\"Convert this dataframe to an interactive table.\"\n",
              "              style=\"display:none;\">\n",
              "        \n",
              "  <svg xmlns=\"http://www.w3.org/2000/svg\" height=\"24px\"viewBox=\"0 0 24 24\"\n",
              "       width=\"24px\">\n",
              "    <path d=\"M0 0h24v24H0V0z\" fill=\"none\"/>\n",
              "    <path d=\"M18.56 5.44l.94 2.06.94-2.06 2.06-.94-2.06-.94-.94-2.06-.94 2.06-2.06.94zm-11 1L8.5 8.5l.94-2.06 2.06-.94-2.06-.94L8.5 2.5l-.94 2.06-2.06.94zm10 10l.94 2.06.94-2.06 2.06-.94-2.06-.94-.94-2.06-.94 2.06-2.06.94z\"/><path d=\"M17.41 7.96l-1.37-1.37c-.4-.4-.92-.59-1.43-.59-.52 0-1.04.2-1.43.59L10.3 9.45l-7.72 7.72c-.78.78-.78 2.05 0 2.83L4 21.41c.39.39.9.59 1.41.59.51 0 1.02-.2 1.41-.59l7.78-7.78 2.81-2.81c.8-.78.8-2.07 0-2.86zM5.41 20L4 18.59l7.72-7.72 1.47 1.35L5.41 20z\"/>\n",
              "  </svg>\n",
              "      </button>\n",
              "      \n",
              "  <style>\n",
              "    .colab-df-container {\n",
              "      display:flex;\n",
              "      flex-wrap:wrap;\n",
              "      gap: 12px;\n",
              "    }\n",
              "\n",
              "    .colab-df-convert {\n",
              "      background-color: #E8F0FE;\n",
              "      border: none;\n",
              "      border-radius: 50%;\n",
              "      cursor: pointer;\n",
              "      display: none;\n",
              "      fill: #1967D2;\n",
              "      height: 32px;\n",
              "      padding: 0 0 0 0;\n",
              "      width: 32px;\n",
              "    }\n",
              "\n",
              "    .colab-df-convert:hover {\n",
              "      background-color: #E2EBFA;\n",
              "      box-shadow: 0px 1px 2px rgba(60, 64, 67, 0.3), 0px 1px 3px 1px rgba(60, 64, 67, 0.15);\n",
              "      fill: #174EA6;\n",
              "    }\n",
              "\n",
              "    [theme=dark] .colab-df-convert {\n",
              "      background-color: #3B4455;\n",
              "      fill: #D2E3FC;\n",
              "    }\n",
              "\n",
              "    [theme=dark] .colab-df-convert:hover {\n",
              "      background-color: #434B5C;\n",
              "      box-shadow: 0px 1px 3px 1px rgba(0, 0, 0, 0.15);\n",
              "      filter: drop-shadow(0px 1px 2px rgba(0, 0, 0, 0.3));\n",
              "      fill: #FFFFFF;\n",
              "    }\n",
              "  </style>\n",
              "\n",
              "      <script>\n",
              "        const buttonEl =\n",
              "          document.querySelector('#df-a59aa4d0-120c-48d5-b564-3c13d4083917 button.colab-df-convert');\n",
              "        buttonEl.style.display =\n",
              "          google.colab.kernel.accessAllowed ? 'block' : 'none';\n",
              "\n",
              "        async function convertToInteractive(key) {\n",
              "          const element = document.querySelector('#df-a59aa4d0-120c-48d5-b564-3c13d4083917');\n",
              "          const dataTable =\n",
              "            await google.colab.kernel.invokeFunction('convertToInteractive',\n",
              "                                                     [key], {});\n",
              "          if (!dataTable) return;\n",
              "\n",
              "          const docLinkHtml = 'Like what you see? Visit the ' +\n",
              "            '<a target=\"_blank\" href=https://colab.research.google.com/notebooks/data_table.ipynb>data table notebook</a>'\n",
              "            + ' to learn more about interactive tables.';\n",
              "          element.innerHTML = '';\n",
              "          dataTable['output_type'] = 'display_data';\n",
              "          await google.colab.output.renderOutput(dataTable, element);\n",
              "          const docLink = document.createElement('div');\n",
              "          docLink.innerHTML = docLinkHtml;\n",
              "          element.appendChild(docLink);\n",
              "        }\n",
              "      </script>\n",
              "    </div>\n",
              "  </div>\n",
              "  "
            ]
          },
          "metadata": {},
          "execution_count": 3
        }
      ]
    },
    {
      "cell_type": "code",
      "source": [
        "data['Age'].describe()"
      ],
      "metadata": {
        "colab": {
          "base_uri": "https://localhost:8080/"
        },
        "id": "V50RPzjf2C6v",
        "outputId": "78f34c4e-84ba-4df5-87ce-c559e941f57d"
      },
      "execution_count": 4,
      "outputs": [
        {
          "output_type": "execute_result",
          "data": {
            "text/plain": [
              "count    3384.000000\n",
              "mean       54.775709\n",
              "std        11.731764\n",
              "min        35.000000\n",
              "25%        45.000000\n",
              "50%        55.000000\n",
              "75%        65.000000\n",
              "max        75.000000\n",
              "Name: Age, dtype: float64"
            ]
          },
          "metadata": {},
          "execution_count": 4
        }
      ]
    },
    {
      "cell_type": "code",
      "source": [
        "# Information in train part\n",
        "data.describe()"
      ],
      "metadata": {
        "colab": {
          "base_uri": "https://localhost:8080/",
          "height": 364
        },
        "id": "hVc1VuxDlUui",
        "outputId": "eafd76f4-cac4-4c78-935b-d6029b349384"
      },
      "execution_count": 5,
      "outputs": [
        {
          "output_type": "execute_result",
          "data": {
            "text/plain": [
              "                LO          Age          SEX          EDU           SE  \\\n",
              "count  3384.000000  3384.000000  3384.000000  3384.000000  3384.000000   \n",
              "mean      3.677009    54.775709     0.498818     8.896868     1.991135   \n",
              "std       1.704264    11.731764     0.500072     5.432982     0.811121   \n",
              "min       1.000000    35.000000     0.000000     0.000000     1.000000   \n",
              "25%       2.000000    45.000000     0.000000     4.000000     1.000000   \n",
              "50%       4.000000    55.000000     0.000000     9.000000     2.000000   \n",
              "75%       5.000000    65.000000     1.000000    14.000000     3.000000   \n",
              "max       6.000000    75.000000     1.000000    18.000000     3.000000   \n",
              "\n",
              "              Hert        smoke          COV        COV-R         Alzh  \n",
              "count  3384.000000  3384.000000  3384.000000  3384.000000  3384.000000  \n",
              "mean      0.153960     0.499409     0.492317     1.958333     0.294917  \n",
              "std       0.360964     0.500074     0.500015     0.820071     0.456073  \n",
              "min       0.000000     0.000000     0.000000     1.000000     0.000000  \n",
              "25%       0.000000     0.000000     0.000000     1.000000     0.000000  \n",
              "50%       0.000000     0.000000     0.000000     2.000000     0.000000  \n",
              "75%       0.000000     1.000000     1.000000     3.000000     1.000000  \n",
              "max       1.000000     1.000000     1.000000     3.000000     1.000000  "
            ],
            "text/html": [
              "\n",
              "  <div id=\"df-e1080d3c-438e-40ad-b522-300d030c7286\">\n",
              "    <div class=\"colab-df-container\">\n",
              "      <div>\n",
              "<style scoped>\n",
              "    .dataframe tbody tr th:only-of-type {\n",
              "        vertical-align: middle;\n",
              "    }\n",
              "\n",
              "    .dataframe tbody tr th {\n",
              "        vertical-align: top;\n",
              "    }\n",
              "\n",
              "    .dataframe thead th {\n",
              "        text-align: right;\n",
              "    }\n",
              "</style>\n",
              "<table border=\"1\" class=\"dataframe\">\n",
              "  <thead>\n",
              "    <tr style=\"text-align: right;\">\n",
              "      <th></th>\n",
              "      <th>LO</th>\n",
              "      <th>Age</th>\n",
              "      <th>SEX</th>\n",
              "      <th>EDU</th>\n",
              "      <th>SE</th>\n",
              "      <th>Hert</th>\n",
              "      <th>smoke</th>\n",
              "      <th>COV</th>\n",
              "      <th>COV-R</th>\n",
              "      <th>Alzh</th>\n",
              "    </tr>\n",
              "  </thead>\n",
              "  <tbody>\n",
              "    <tr>\n",
              "      <th>count</th>\n",
              "      <td>3384.000000</td>\n",
              "      <td>3384.000000</td>\n",
              "      <td>3384.000000</td>\n",
              "      <td>3384.000000</td>\n",
              "      <td>3384.000000</td>\n",
              "      <td>3384.000000</td>\n",
              "      <td>3384.000000</td>\n",
              "      <td>3384.000000</td>\n",
              "      <td>3384.000000</td>\n",
              "      <td>3384.000000</td>\n",
              "    </tr>\n",
              "    <tr>\n",
              "      <th>mean</th>\n",
              "      <td>3.677009</td>\n",
              "      <td>54.775709</td>\n",
              "      <td>0.498818</td>\n",
              "      <td>8.896868</td>\n",
              "      <td>1.991135</td>\n",
              "      <td>0.153960</td>\n",
              "      <td>0.499409</td>\n",
              "      <td>0.492317</td>\n",
              "      <td>1.958333</td>\n",
              "      <td>0.294917</td>\n",
              "    </tr>\n",
              "    <tr>\n",
              "      <th>std</th>\n",
              "      <td>1.704264</td>\n",
              "      <td>11.731764</td>\n",
              "      <td>0.500072</td>\n",
              "      <td>5.432982</td>\n",
              "      <td>0.811121</td>\n",
              "      <td>0.360964</td>\n",
              "      <td>0.500074</td>\n",
              "      <td>0.500015</td>\n",
              "      <td>0.820071</td>\n",
              "      <td>0.456073</td>\n",
              "    </tr>\n",
              "    <tr>\n",
              "      <th>min</th>\n",
              "      <td>1.000000</td>\n",
              "      <td>35.000000</td>\n",
              "      <td>0.000000</td>\n",
              "      <td>0.000000</td>\n",
              "      <td>1.000000</td>\n",
              "      <td>0.000000</td>\n",
              "      <td>0.000000</td>\n",
              "      <td>0.000000</td>\n",
              "      <td>1.000000</td>\n",
              "      <td>0.000000</td>\n",
              "    </tr>\n",
              "    <tr>\n",
              "      <th>25%</th>\n",
              "      <td>2.000000</td>\n",
              "      <td>45.000000</td>\n",
              "      <td>0.000000</td>\n",
              "      <td>4.000000</td>\n",
              "      <td>1.000000</td>\n",
              "      <td>0.000000</td>\n",
              "      <td>0.000000</td>\n",
              "      <td>0.000000</td>\n",
              "      <td>1.000000</td>\n",
              "      <td>0.000000</td>\n",
              "    </tr>\n",
              "    <tr>\n",
              "      <th>50%</th>\n",
              "      <td>4.000000</td>\n",
              "      <td>55.000000</td>\n",
              "      <td>0.000000</td>\n",
              "      <td>9.000000</td>\n",
              "      <td>2.000000</td>\n",
              "      <td>0.000000</td>\n",
              "      <td>0.000000</td>\n",
              "      <td>0.000000</td>\n",
              "      <td>2.000000</td>\n",
              "      <td>0.000000</td>\n",
              "    </tr>\n",
              "    <tr>\n",
              "      <th>75%</th>\n",
              "      <td>5.000000</td>\n",
              "      <td>65.000000</td>\n",
              "      <td>1.000000</td>\n",
              "      <td>14.000000</td>\n",
              "      <td>3.000000</td>\n",
              "      <td>0.000000</td>\n",
              "      <td>1.000000</td>\n",
              "      <td>1.000000</td>\n",
              "      <td>3.000000</td>\n",
              "      <td>1.000000</td>\n",
              "    </tr>\n",
              "    <tr>\n",
              "      <th>max</th>\n",
              "      <td>6.000000</td>\n",
              "      <td>75.000000</td>\n",
              "      <td>1.000000</td>\n",
              "      <td>18.000000</td>\n",
              "      <td>3.000000</td>\n",
              "      <td>1.000000</td>\n",
              "      <td>1.000000</td>\n",
              "      <td>1.000000</td>\n",
              "      <td>3.000000</td>\n",
              "      <td>1.000000</td>\n",
              "    </tr>\n",
              "  </tbody>\n",
              "</table>\n",
              "</div>\n",
              "      <button class=\"colab-df-convert\" onclick=\"convertToInteractive('df-e1080d3c-438e-40ad-b522-300d030c7286')\"\n",
              "              title=\"Convert this dataframe to an interactive table.\"\n",
              "              style=\"display:none;\">\n",
              "        \n",
              "  <svg xmlns=\"http://www.w3.org/2000/svg\" height=\"24px\"viewBox=\"0 0 24 24\"\n",
              "       width=\"24px\">\n",
              "    <path d=\"M0 0h24v24H0V0z\" fill=\"none\"/>\n",
              "    <path d=\"M18.56 5.44l.94 2.06.94-2.06 2.06-.94-2.06-.94-.94-2.06-.94 2.06-2.06.94zm-11 1L8.5 8.5l.94-2.06 2.06-.94-2.06-.94L8.5 2.5l-.94 2.06-2.06.94zm10 10l.94 2.06.94-2.06 2.06-.94-2.06-.94-.94-2.06-.94 2.06-2.06.94z\"/><path d=\"M17.41 7.96l-1.37-1.37c-.4-.4-.92-.59-1.43-.59-.52 0-1.04.2-1.43.59L10.3 9.45l-7.72 7.72c-.78.78-.78 2.05 0 2.83L4 21.41c.39.39.9.59 1.41.59.51 0 1.02-.2 1.41-.59l7.78-7.78 2.81-2.81c.8-.78.8-2.07 0-2.86zM5.41 20L4 18.59l7.72-7.72 1.47 1.35L5.41 20z\"/>\n",
              "  </svg>\n",
              "      </button>\n",
              "      \n",
              "  <style>\n",
              "    .colab-df-container {\n",
              "      display:flex;\n",
              "      flex-wrap:wrap;\n",
              "      gap: 12px;\n",
              "    }\n",
              "\n",
              "    .colab-df-convert {\n",
              "      background-color: #E8F0FE;\n",
              "      border: none;\n",
              "      border-radius: 50%;\n",
              "      cursor: pointer;\n",
              "      display: none;\n",
              "      fill: #1967D2;\n",
              "      height: 32px;\n",
              "      padding: 0 0 0 0;\n",
              "      width: 32px;\n",
              "    }\n",
              "\n",
              "    .colab-df-convert:hover {\n",
              "      background-color: #E2EBFA;\n",
              "      box-shadow: 0px 1px 2px rgba(60, 64, 67, 0.3), 0px 1px 3px 1px rgba(60, 64, 67, 0.15);\n",
              "      fill: #174EA6;\n",
              "    }\n",
              "\n",
              "    [theme=dark] .colab-df-convert {\n",
              "      background-color: #3B4455;\n",
              "      fill: #D2E3FC;\n",
              "    }\n",
              "\n",
              "    [theme=dark] .colab-df-convert:hover {\n",
              "      background-color: #434B5C;\n",
              "      box-shadow: 0px 1px 3px 1px rgba(0, 0, 0, 0.15);\n",
              "      filter: drop-shadow(0px 1px 2px rgba(0, 0, 0, 0.3));\n",
              "      fill: #FFFFFF;\n",
              "    }\n",
              "  </style>\n",
              "\n",
              "      <script>\n",
              "        const buttonEl =\n",
              "          document.querySelector('#df-e1080d3c-438e-40ad-b522-300d030c7286 button.colab-df-convert');\n",
              "        buttonEl.style.display =\n",
              "          google.colab.kernel.accessAllowed ? 'block' : 'none';\n",
              "\n",
              "        async function convertToInteractive(key) {\n",
              "          const element = document.querySelector('#df-e1080d3c-438e-40ad-b522-300d030c7286');\n",
              "          const dataTable =\n",
              "            await google.colab.kernel.invokeFunction('convertToInteractive',\n",
              "                                                     [key], {});\n",
              "          if (!dataTable) return;\n",
              "\n",
              "          const docLinkHtml = 'Like what you see? Visit the ' +\n",
              "            '<a target=\"_blank\" href=https://colab.research.google.com/notebooks/data_table.ipynb>data table notebook</a>'\n",
              "            + ' to learn more about interactive tables.';\n",
              "          element.innerHTML = '';\n",
              "          dataTable['output_type'] = 'display_data';\n",
              "          await google.colab.output.renderOutput(dataTable, element);\n",
              "          const docLink = document.createElement('div');\n",
              "          docLink.innerHTML = docLinkHtml;\n",
              "          element.appendChild(docLink);\n",
              "        }\n",
              "      </script>\n",
              "    </div>\n",
              "  </div>\n",
              "  "
            ]
          },
          "metadata": {},
          "execution_count": 5
        }
      ]
    },
    {
      "cell_type": "code",
      "source": [
        "data_corr = data.corr()\n",
        "sns.heatmap(data_corr)"
      ],
      "metadata": {
        "colab": {
          "base_uri": "https://localhost:8080/",
          "height": 309
        },
        "id": "gluQjGoAld1g",
        "outputId": "c121871b-c9ee-4d49-cb82-c14033320254"
      },
      "execution_count": 6,
      "outputs": [
        {
          "output_type": "execute_result",
          "data": {
            "text/plain": [
              "<matplotlib.axes._subplots.AxesSubplot at 0x7fe4d04d6910>"
            ]
          },
          "metadata": {},
          "execution_count": 6
        },
        {
          "output_type": "display_data",
          "data": {
            "text/plain": [
              "<Figure size 432x288 with 2 Axes>"
            ],
            "image/png": "[encoded data removed]"
          },
          "metadata": {
            "needs_background": "light"
          }
        }
      ]
    },
    {
      "cell_type": "code",
      "source": [
        "# Seprate label and feature\n",
        "labels = data['Alzh']\n",
        "features = data.drop('Alzh', axis=1)\n",
        "features = features.drop('SEX', axis=1)\n",
        "\n",
        "features_list = list(features.columns)\n"
      ],
      "metadata": {
        "id": "N4UG-Z0vmnjH"
      },
      "execution_count": 7,
      "outputs": []
    },
    {
      "cell_type": "code",
      "source": [
        "# Train, Test split\n",
        "train_features, test_features, train_labels, test_labels = train_test_split(\n",
        "    features, \n",
        "    labels, \n",
        "    test_size = 0.25, \n",
        "    random_state = 42\n",
        "    )\n",
        "\n",
        "print(\"Train: \", len(train_features))\n",
        "print(\"Test : \", len(test_features))"
      ],
      "metadata": {
        "colab": {
          "base_uri": "https://localhost:8080/"
        },
        "id": "JriAAFgLqfJ9",
        "outputId": "266f8961-2914-4f77-fb2c-e9c2b5503be5"
      },
      "execution_count": 8,
      "outputs": [
        {
          "output_type": "stream",
          "name": "stdout",
          "text": [
            "Train:  2538\n",
            "Test :  846\n"
          ]
        }
      ]
    },
    {
      "cell_type": "markdown",
      "source": [
        "# Random Forest"
      ],
      "metadata": {
        "id": "8GU3r3oS_COY"
      }
    },
    {
      "cell_type": "code",
      "source": [
        "# Instantiate model with 1000 decision trees\n",
        "rf = RandomForestRegressor(n_estimators = 1000, random_state = 42)\n",
        "# Train the model on training data\n",
        "rf.fit(train_features, train_labels)"
      ],
      "metadata": {
        "colab": {
          "base_uri": "https://localhost:8080/"
        },
        "id": "HUAEFlsQqfMW",
        "outputId": "e5270bf0-5c10-4d90-f11f-1cce574e4819"
      },
      "execution_count": 9,
      "outputs": [
        {
          "output_type": "execute_result",
          "data": {
            "text/plain": [
              "RandomForestRegressor(n_estimators=1000, random_state=42)"
            ]
          },
          "metadata": {},
          "execution_count": 9
        }
      ]
    },
    {
      "cell_type": "code",
      "source": [
        "# Use the forest's predict method on the test data\n",
        "predictions = rf.predict(test_features)\n",
        "\n",
        "# --- Find MAE\n",
        "errors = abs(predictions - test_labels)\n",
        "print('Mean Absolute Error:', np.mean(errors))\n",
        "\n",
        "\n",
        "# --- Find accuracy\n",
        "# set threshold\n",
        "predictions[predictions >= 0.5] = 1\n",
        "predictions[predictions < 0.5] = 0\n",
        "\n",
        "# Which one is correct: \n",
        "diff = predictions - np.array(test_labels)\n",
        "True_pred = len(diff[diff == 0])\n",
        "print(\"Accuracy           : \", True_pred/len(diff) * 100)\n"
      ],
      "metadata": {
        "colab": {
          "base_uri": "https://localhost:8080/"
        },
        "id": "obxS1-X2qfOQ",
        "outputId": "74b18b45-9841-4fed-ba70-993c3cc231cc"
      },
      "execution_count": 10,
      "outputs": [
        {
          "output_type": "stream",
          "name": "stdout",
          "text": [
            "Mean Absolute Error: 0.20058930822920187\n",
            "Accuracy           :  83.92434988179669\n"
          ]
        }
      ]
    },
    {
      "cell_type": "code",
      "source": [
        "# --- Calculate precision and recall with cf matix\n",
        "cf_matrix = confusion_matrix(predictions, np.array(test_labels))\n",
        "precision = precision_score(predictions, np.array(test_labels))\n",
        "recall    = recall_score(predictions, np.array(test_labels))\n",
        "\n",
        "\n",
        "# Namee\n",
        "group_names = ['True Neg',\n",
        "               'False Pos',\n",
        "               'False Neg',\n",
        "               'True Pos']\n",
        "\n",
        "# find precentages of each confusion matrix\n",
        "group_percentages = ['{0:.2%}'.format(value) for value in cf_matrix.flatten()/np.sum(cf_matrix)]\n",
        "\n",
        "# Make labels\n",
        "labels = [f'{v1}\\n{v2}' for v1, v2 in zip(group_names,group_percentages)]\n",
        "labels = np.asarray(labels).reshape(2,2)\n",
        "\n",
        "# Plot heatmap\n",
        "sns.heatmap(cf_matrix, annot=labels, fmt='', cmap='Blues')\n",
        "\n",
        "# Print Info \n",
        "print(\" --------- Result of Random forest ---------\")\n",
        "print(\"Random forest precision : \", precision)\n",
        "print(\"Random forest recall    : \", recall)\n",
        "print(\"\\n\")"
      ],
      "metadata": {
        "colab": {
          "base_uri": "https://localhost:8080/",
          "height": 352
        },
        "id": "HQyIoPsHk2Ge",
        "outputId": "9042b90f-3dc1-4a1d-de35-62df31b2f034"
      },
      "execution_count": 11,
      "outputs": [
        {
          "output_type": "stream",
          "name": "stdout",
          "text": [
            " --------- Result of Random forest ---------\n",
            "Random forest precision :  0.6181818181818182\n",
            "Random forest recall    :  0.845771144278607\n",
            "\n",
            "\n"
          ]
        },
        {
          "output_type": "display_data",
          "data": {
            "text/plain": [
              "<Figure size 432x288 with 2 Axes>"
            ],
            "image/png": "[encoded data removed]"
          },
          "metadata": {
            "needs_background": "light"
          }
        }
      ]
    },
    {
      "cell_type": "code",
      "source": [
        ""
      ],
      "metadata": {
        "id": "a7YP8avfH9L1"
      },
      "execution_count": 11,
      "outputs": []
    },
    {
      "cell_type": "markdown",
      "source": [
        "# KNN Algorithms"
      ],
      "metadata": {
        "id": "ME5Cw64fNePs"
      }
    },
    {
      "cell_type": "code",
      "source": [
        "# Fit model\n",
        "knn_model = KNeighborsRegressor(n_neighbors=12)\n",
        "knn_model.fit(train_features, train_labels)"
      ],
      "metadata": {
        "id": "claUNKaaJBDL",
        "colab": {
          "base_uri": "https://localhost:8080/"
        },
        "outputId": "e07aff3d-1b3f-4ac5-c837-199e35a5cc41"
      },
      "execution_count": 58,
      "outputs": [
        {
          "output_type": "execute_result",
          "data": {
            "text/plain": [
              "KNeighborsRegressor(n_neighbors=12)"
            ]
          },
          "metadata": {},
          "execution_count": 58
        }
      ]
    },
    {
      "cell_type": "code",
      "source": [
        "# Predict test part of dataset\n",
        "predictions = knn_model.predict(test_features)"
      ],
      "metadata": {
        "id": "oMLZhRznJBF6"
      },
      "execution_count": 59,
      "outputs": []
    },
    {
      "cell_type": "code",
      "source": [
        "# --- Find RMSE\n",
        "mse = mean_squared_error(test_labels, predictions)\n",
        "print(\"MSE                : \", mse)\n",
        "# --- Find accuracy\n",
        "# set threshold\n",
        "predictions[predictions >= 0.5] = 1\n",
        "predictions[predictions < 0.5] = 0\n",
        "\n",
        "# Which one is correct: \n",
        "diff = predictions - np.array(test_labels)\n",
        "True_pred = len(diff[diff == 0])\n",
        "print(\"Accuracy           : \", True_pred/len(diff) * 100)\n"
      ],
      "metadata": {
        "id": "16V2o5L4JBH9",
        "colab": {
          "base_uri": "https://localhost:8080/"
        },
        "outputId": "533fb044-9148-4e2d-cf4f-aba0db307c4c"
      },
      "execution_count": 60,
      "outputs": [
        {
          "output_type": "stream",
          "name": "stdout",
          "text": [
            "MSE                :  0.20645357236669293\n",
            "Accuracy           :  70.09456264775413\n"
          ]
        }
      ]
    },
    {
      "cell_type": "code",
      "source": [
        "# --- Calculate precision and recall with cf matix\n",
        "cf_matrix = confusion_matrix(predictions, np.array(test_labels))\n",
        "precision = precision_score(predictions, np.array(test_labels))\n",
        "recall    = recall_score(predictions, np.array(test_labels))\n",
        "\n",
        "\n",
        "# Namee\n",
        "group_names = ['True Neg',\n",
        "               'False Pos',\n",
        "               'False Neg',\n",
        "               'True Pos']\n",
        "\n",
        "# find precentages of each confusion matrix\n",
        "group_percentages = ['{0:.2%}'.format(value) for value in cf_matrix.flatten()/np.sum(cf_matrix)]\n",
        "\n",
        "# Make labels\n",
        "labels = [f'{v1}\\n{v2}' for v1, v2 in zip(group_names,group_percentages)]\n",
        "labels = np.asarray(labels).reshape(2,2)\n",
        "\n",
        "# Plot heatmap\n",
        "sns.heatmap(cf_matrix, annot=labels, fmt='')\n",
        "\n",
        "# Print Info \n",
        "print(\" --------- Result of Random forest ---------\")\n",
        "print(\"KNN precision : \", precision)\n",
        "print(\"KNN recall    : \", recall)\n",
        "print(\"\\n\")"
      ],
      "metadata": {
        "colab": {
          "base_uri": "https://localhost:8080/",
          "height": 352
        },
        "id": "yNEuijZojkg9",
        "outputId": "1670f65e-bc0d-4f8c-d50f-42e31b69c243"
      },
      "execution_count": 63,
      "outputs": [
        {
          "output_type": "stream",
          "name": "stdout",
          "text": [
            " --------- Result of Random forest ---------\n",
            "KNN precision :  0.16363636363636364\n",
            "KNN recall    :  0.6617647058823529\n",
            "\n",
            "\n"
          ]
        },
        {
          "output_type": "display_data",
          "data": {
            "text/plain": [
              "<Figure size 432x288 with 2 Axes>"
            ],
            "image/png": "[encoded data removed]"
          },
          "metadata": {
            "needs_background": "light"
          }
        }
      ]
    },
    {
      "cell_type": "code",
      "source": [
        ""
      ],
      "metadata": {
        "id": "F1lcuTu0jkjZ"
      },
      "execution_count": null,
      "outputs": []
    },
    {
      "cell_type": "markdown",
      "source": [
        "# Naive Bayes"
      ],
      "metadata": {
        "id": "fP52mf5gk6dt"
      }
    },
    {
      "cell_type": "code",
      "source": [
        "# Model fit\n",
        "bayes_model = GaussianNB()\n",
        "bayes_model.fit(train_features, train_labels)"
      ],
      "metadata": {
        "colab": {
          "base_uri": "https://localhost:8080/"
        },
        "id": "1MS2i7tDjkl7",
        "outputId": "0a077f53-3bc3-4be3-ea43-d2f0b0c5d0b1"
      },
      "execution_count": 68,
      "outputs": [
        {
          "output_type": "execute_result",
          "data": {
            "text/plain": [
              "GaussianNB()"
            ]
          },
          "metadata": {},
          "execution_count": 68
        }
      ]
    },
    {
      "cell_type": "code",
      "source": [
        "# Predict test part of dataset\n",
        "predictions = bayes_model.predict(test_features)"
      ],
      "metadata": {
        "id": "ZVyjY6Zmjkn4"
      },
      "execution_count": 69,
      "outputs": []
    },
    {
      "cell_type": "code",
      "source": [
        "# --- Find RMSE\n",
        "mse = mean_squared_error(test_labels, predictions)\n",
        "print(\"MSE                : \", mse)\n",
        "# --- Find accuracy\n",
        "# set threshold\n",
        "predictions[predictions >= 0.5] = 1\n",
        "predictions[predictions < 0.5] = 0\n",
        "\n",
        "# Which one is correct: \n",
        "diff = predictions - np.array(test_labels)\n",
        "True_pred = len(diff[diff == 0])\n",
        "print(\"Accuracy           : \", True_pred/len(diff) * 100)\n"
      ],
      "metadata": {
        "colab": {
          "base_uri": "https://localhost:8080/"
        },
        "id": "935CjydUiXv_",
        "outputId": "42b50d78-0ef2-4e11-d755-25e86889dc1c"
      },
      "execution_count": 70,
      "outputs": [
        {
          "output_type": "stream",
          "name": "stdout",
          "text": [
            "MSE                :  0.14893617021276595\n",
            "Accuracy           :  85.1063829787234\n"
          ]
        }
      ]
    },
    {
      "cell_type": "code",
      "source": [
        "# --- Calculate precision and recall with cf matix\n",
        "cf_matrix = confusion_matrix(predictions, np.array(test_labels))\n",
        "precision = precision_score(predictions, np.array(test_labels))\n",
        "recall    = recall_score(predictions, np.array(test_labels))\n",
        "\n",
        "\n",
        "# Namee\n",
        "group_names = ['True Neg',\n",
        "               'False Pos',\n",
        "               'False Neg',\n",
        "               'True Pos']\n",
        "\n",
        "# find precentages of each confusion matrix\n",
        "group_percentages = ['{0:.2%}'.format(value) for value in cf_matrix.flatten()/np.sum(cf_matrix)]\n",
        "\n",
        "# Make labels\n",
        "labels = [f'{v1}\\n{v2}' for v1, v2 in zip(group_names,group_percentages)]\n",
        "labels = np.asarray(labels).reshape(2,2)\n",
        "\n",
        "# Plot heatmap\n",
        "sns.heatmap(cf_matrix, annot=labels, fmt='')\n",
        "\n",
        "# Print Info \n",
        "print(\" --------- Result of Random forest ---------\")\n",
        "print(\"KNN precision : \", precision)\n",
        "print(\"KNN recall    : \", recall)\n",
        "print(\"\\n\")"
      ],
      "metadata": {
        "colab": {
          "base_uri": "https://localhost:8080/",
          "height": 352
        },
        "id": "sHejnYXziijN",
        "outputId": "ae1b7275-d4ec-48e4-9d8d-e0b115e537f3"
      },
      "execution_count": 78,
      "outputs": [
        {
          "output_type": "stream",
          "name": "stdout",
          "text": [
            " --------- Result of Random forest ---------\n",
            "KNN precision :  0.5418181818181819\n",
            "KNN recall    :  1.0\n",
            "\n",
            "\n"
          ]
        },
        {
          "output_type": "display_data",
          "data": {
            "text/plain": [
              "<Figure size 432x288 with 2 Axes>"
            ],
            "image/png": "[encoded data removed]"
          },
          "metadata": {
            "needs_background": "light"
          }
        }
      ]
    },
    {
      "cell_type": "code",
      "source": [
        ""
      ],
      "metadata": {
        "id": "z6mwTtf0pIJt"
      },
      "execution_count": null,
      "outputs": []
    }
  ]
}